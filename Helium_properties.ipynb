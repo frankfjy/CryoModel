{
 "cells": [
  {
   "cell_type": "code",
   "execution_count": 67,
   "metadata": {},
   "outputs": [],
   "source": [
    "import numpy as np\n",
    "import scipy as sp\n",
    "\n",
    "import matplotlib.pyplot as plt\n",
    "%matplotlib inline\n",
    "\n",
    "from scipy.integrate import simps\n",
    "\n",
    "from scipy import interpolate\n",
    "\n",
    "from time import time"
   ]
  },
  {
   "cell_type": "code",
   "execution_count": 208,
   "metadata": {},
   "outputs": [
    {
     "data": {
      "image/png": "[encoded data removed]",
      "text/plain": [
       "<Figure size 432x288 with 1 Axes>"
      ]
     },
     "metadata": {
      "needs_background": "light"
     },
     "output_type": "display_data"
    }
   ],
   "source": [
    "# Modified from http://nuclear.unh.edu/~ryan/Doc/He4Vapor.py\n",
    "\n",
    "def T90(pressure):\n",
    "    '''\n",
    "    http://www.nist.gov/srd/upload/jpcrd551.pdf\n",
    "    Page 1267\n",
    "    '''\n",
    "    # model parameters\n",
    "    a_90_1 = np.array([1.392408,0.527153,0.166756,0.050988,0.026514,0.001975,-0.017976,0.005409,0.013259,0.0])\n",
    "    a_90_2 = np.array([3.146631,1.357655,0.413923,0.091159,0.016349,0.001826,-0.004325,0.004973,0.0,0.0])\n",
    "    B1 = 5.6\n",
    "    C1 = 2.9\n",
    "    B2 = 10.3\n",
    "    C2 = 1.9\n",
    "    \n",
    "    #Input pressure is in Torr\n",
    "    if isinstance(pressure, float) or isinstance(pressure, int):\n",
    "        pressure = np.array([pressure])\n",
    "    elif isinstance(pressure, list):\n",
    "        pressure = np.array(pressure)\n",
    "    \n",
    "    torr2Pa = 133.322 #Convert factor from Torr to Pa\n",
    "    p0,p1,p2 = 0.8626, 37.82, 1471 # in torr\n",
    "    \n",
    "    i = np.arange(0,10,1)\n",
    "    \n",
    "    temp = np.where((pressure >= p0) & (pressure <= p1), np.sum( a_90_1*((np.log(pressure[:,None]*torr2Pa)-B1)/C1)**i, axis=1), \\\n",
    "                   np.where((pressure > p1) & (pressure <= p2), np.sum( a_90_2*((np.log(pressure[:,None]*torr2Pa)-B2)/C2)**i, axis=1), 0))\n",
    "\n",
    "    return temp\n",
    "\n",
    "def P90_1(temp):\n",
    "    log_p = 12.2440 - 59.83/(8.314510*temp) + (5.0/2.0)*np.log(temp)\n",
    "    pressure = np.exp(log_p) \n",
    "    pressure = pressure/10.0 #Not sure why there is a divide by 10 here...\n",
    "    pressure = pressure/133.322 #Convert Pa to Torr\n",
    "    return pressure\n",
    "\n",
    "\n",
    "def P90(temp):\n",
    "\tlog_p = 12.2440 - 59.83/(8.314510*float(temp)) + (5.0/2.0)*math.log(float(temp))\n",
    "\tpressure = math.exp(log_p) \n",
    "\tpressure = pressure/10.0 #Not sure why there is a divide by 10 here...\n",
    "\tpressure = pressure/133.322 #Convert Pa to Torr\n",
    "\treturn pressure\n",
    "\n",
    "\n",
    "pressure = np.arange(0.9,100,1)\n",
    "temp = np.arange(0.5,1.25,0.01)\n",
    "\n",
    "plt.plot(pressure,T90(pressure), 'r')\n",
    "plt.plot(P90_1(temp), temp, 'b')\n",
    "\n",
    "plt.show()"
   ]
  },
  {
   "cell_type": "code",
   "execution_count": 217,
   "metadata": {},
   "outputs": [],
   "source": [
    "\n",
    "'''\n",
    "He4 Vapor Pressure to temperature: Emperical formula\n",
    "http://journals.aps.org/pr/pdf/10.1103/PhysRev.100.743\n",
    "'''\n",
    "\n",
    "def He4Pressure(temp):\n",
    "    '''\n",
    "    Return He4 Vapor pressure at temp in torr\n",
    "    '''\n",
    "    \n",
    "    I = 4.6202\n",
    "    A = 6.399\n",
    "    B = 2.541\n",
    "    C = 0.00612\n",
    "    D = 0.5197\n",
    "    alpha = 7.00\n",
    "    beta  = 14.14\n",
    "    \n",
    "    log_p = I - (A/temp)+B*np.log(temp)+(C/2.0)*temp**2 \n",
    "    log_p = log_p - D*((alpha*beta)/(np.power(beta,2)+1) - temp**-1)*np.arctan(alpha*temp-beta) \n",
    "    log_p = log_p - (alpha*D)/(2*(beta**2+1))*np.log((temp**2)/(1+(alpha*temp-beta)*(alpha*temp-beta)))\n",
    "    return np.exp(log_p)\n",
    "\n",
    "\n",
    "\n",
    "T0 = np.arange(2.0, 5., 0.01)\n",
    "P0 = He4Pressure(T0)\n",
    "He4Temp = interpolate.interp1d(P0, T0)"
   ]
  },
  {
   "cell_type": "code",
   "execution_count": 218,
   "metadata": {},
   "outputs": [
    {
     "data": {
      "image/png": "[encoded data removed]",
      "text/plain": [
       "<Figure size 432x288 with 1 Axes>"
      ]
     },
     "metadata": {
      "needs_background": "light"
     },
     "output_type": "display_data"
    }
   ],
   "source": [
    "savepic =0\n",
    "\n",
    "T = np.arange(1.25, 5., 0.01)\n",
    "P = He4Pressure(T)\n",
    "\n",
    "atm = 750\n",
    "dp  = 40\n",
    "\n",
    "\n",
    "plt.plot(T, P, 'r', label = \"He4 Vapor Pressure\")\n",
    "\n",
    "# plt.axhline(y=atm, ls='--', label='1 atm')\n",
    "# plt.axhline(y=atm+dp, c='g', ls='--', label='1 atm + 40 torr')\n",
    "\n",
    "plt.yscale('log')\n",
    "\n",
    "plt.xlabel('K')\n",
    "plt.ylabel('Torr')\n",
    "\n",
    "plt.legend()\n",
    "\n",
    "plt.grid()\n",
    "\n",
    "if savepic:\n",
    "    plt.savefig('he4_VP.png', dpi=120)\n",
    "plt.show()"
   ]
  },
  {
   "cell_type": "code",
   "execution_count": 221,
   "metadata": {},
   "outputs": [
    {
     "data": {
      "text/plain": [
       "0.45172390765881654"
      ]
     },
     "execution_count": 221,
     "metadata": {},
     "output_type": "execute_result"
    }
   ],
   "source": [
    "He4Pressure(3.5)/He4Pressure(4.25)"
   ]
  },
  {
   "cell_type": "code",
   "execution_count": null,
   "metadata": {},
   "outputs": [],
   "source": []
  }
 ],
 "metadata": {
  "kernelspec": {
   "display_name": "Python 3",
   "language": "python",
   "name": "python3"
  },
  "language_info": {
   "codemirror_mode": {
    "name": "ipython",
    "version": 3
   },
   "file_extension": ".py",
   "mimetype": "text/x-python",
   "name": "python",
   "nbconvert_exporter": "python",
   "pygments_lexer": "ipython3",
   "version": "3.8.3"
  }
 },
 "nbformat": 4,
 "nbformat_minor": 4
}
