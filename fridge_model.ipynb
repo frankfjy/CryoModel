{
 "cells": [
  {
   "cell_type": "code",
   "execution_count": 2,
   "metadata": {},
   "outputs": [],
   "source": [
    "import numpy as np\n",
    "import scipy as sp\n",
    "\n",
    "import matplotlib.pyplot as plt\n",
    "%matplotlib inline\n",
    "\n",
    "from scipy.integrate import simps\n",
    "\n",
    "\n",
    "from CryoModel.radmodel import uprint"
   ]
  },
  {
   "cell_type": "code",
   "execution_count": 6,
   "metadata": {},
   "outputs": [],
   "source": [
    "#constants\n",
    "#Stefan-Boltzmann constant\n",
    "SIGMA = 5.6704E-12   #[J/s*cm^2*K^4]\n",
    "\n",
    "\n",
    "class ThermalMaterial:\n",
    "    def __init__(self, name, specificHeat=np.inf, conductivity=np.inf, latentHeat=np.inf ):\n",
    "        self.name = name\n",
    "        self.specificHeat = specificHeat\n",
    "        self.conductivity = conductivity\n",
    "        self.latentHeat = latentHeat \n",
    "        \n",
    "    def getFlux(self,T1,T2,AOverL):\n",
    "        \n",
    "        Ts = self.conductivity[:,0]\n",
    "        ks = self.conductivity[:,1]\n",
    "        \n",
    "        dT = np.min(Ts[1:] - Ts[:-1])\n",
    "        T  = np.arange(T1, T2, dT)\n",
    "        \n",
    "        return AOverL * simps(np.interp(T, Ts, ks), T)\n",
    "\n",
    "SShigh = np.loadtxt('./cryoModel/thermalProp/ss304_cv.txt',)\n",
    "SST    = np.arange(.2,3.9,0.1)\n",
    "SSlow  = np.stack((SST, 0.0556*SST**1.15)).T\n",
    "\n",
    "\n",
    "SS = ThermalMaterial(name='SS304', conductivity=np.concatenate((SSlow,SShigh)))\n",
    "CF = ThermalMaterial(name='CF', conductivity=np.loadtxt('./cryoModel/thermalProp/CF_cv.txt',))\n",
    "G10 = ThermalMaterial(name='G10', conductivity=np.loadtxt('./cryoModel/thermalProp/g10_cv_combined.txt',))\n",
    "    \n",
    "        \n",
    "class ThermalLink(object):\n",
    "    def __init__(self, name, s1, s2,):\n",
    "        self.name = name\n",
    "        self.s1   = s1\n",
    "        self.s2   = s2\n",
    "\n",
    "class Radi(ThermalLink):\n",
    "    def __init__(self, area=0, **kwargs):\n",
    "        super().__init__(**kwargs)\n",
    "        self.type = 'Radiation'\n",
    "        self.area = area \n",
    "        \n",
    "    def calFlux(self):\n",
    "        self.flux = self.area * SIGMA * (self.s1.T**4 - self.s2.T**4)\n",
    "        self.s1.load -= self.flux\n",
    "        self.s2.load += self.flux\n",
    "        \n",
    "        return self.flux\n",
    "        \n",
    "class Cond(ThermalLink):\n",
    "    def __init__(self, AOverL=0, material=None, **kwargs):\n",
    "        super().__init__(**kwargs)\n",
    "        self.type = 'Conduction'\n",
    "        self.AOverL = AOverL\n",
    "        self.material = material\n",
    "        \n",
    "    def calFlux(self):\n",
    "            \n",
    "        self.flux = self.material.getFlux(self.s2.T, self.s1.T, self.AOverL)\n",
    "        self.s1.load -= self.flux\n",
    "        self.s2.load += self.flux\n",
    "        \n",
    "        return self.flux\n",
    "        \n",
    "class Fridge(ThermalLink):\n",
    "    def __init__(self, stp = 8, heaterE=5000, no_load_time=72*3600, **kwargs):\n",
    "        super().__init__(**kwargs)\n",
    "        self.type = 'Fridge'\n",
    "        self.coldE = stp/22.4*25 # in J\n",
    "        self.heaterE = heaterE   # in J\n",
    "        self.no_load_time = no_load_time  # in seconds\n",
    "        self.para_load = self.coldE/no_load_time  # in W\n",
    "        \n",
    "    def getLoad(self):\n",
    "        load = self.s2.load + self.para_load\n",
    "        self.hold_time = self.coldE/ load\n",
    "\n",
    "    def calFlux(self):\n",
    "        self.getLoad()\n",
    "        self.flux = self.s2.load + self.para_load + self.heaterE/self.hold_time\n",
    "        self.s1.load += self.flux\n",
    "        \n",
    "class Stages(object):\n",
    "    def __init__(self, name, T0, Type=None):\n",
    "        self.name = name\n",
    "        self.T    = float(T0)\n",
    "        self.Type = Type\n",
    "        self.load = 0.\n",
    "        \n",
    "        \n",
    "class ThermalSystem(object):\n",
    "    \n",
    "    ### setting up the model\n",
    "    def __init__(self, name,):\n",
    "        self.name = name\n",
    "        self.stages = []\n",
    "        self.linkages = []\n",
    "        \n",
    "    def add_stage(self, stage):\n",
    "        self.stages.append(stage)\n",
    "        \n",
    "    def add_stages(self, stages):\n",
    "        for stage in stages:\n",
    "            self.stages.append(stage)\n",
    "        \n",
    "    def add_linkage(self, link):\n",
    "        self.linkages.append(link)\n",
    "         \n",
    "    ### print the details of the model          \n",
    "    def showLinks(self,):\n",
    "        print('Linkages:')\n",
    "        for link in self.linkages:\n",
    "            print('  %s\\t'%link.name,'| from %s to %s\\t'%(link.s1.name, link.s2.name), '|', link.type)\n",
    "            \n",
    "    def showStages(self,):\n",
    "        print('Stages:')\n",
    "        for stage in self.stages:\n",
    "            print('  ', stage.name,', Temp:', stage.T)\n",
    "    \n",
    "    def showSystem(self):\n",
    "        print('System:', self.name)\n",
    "        self.showStages()\n",
    "        self.showLinks()\n",
    "        \n",
    "    def showLoads(self):\n",
    "        print('Fluxs on links:')\n",
    "        for link in self.linkages:\n",
    "            print('  Link: %10s\\t'%link.name,' Flux: ', uprint(link.flux, fmt='%6.3f') )\n",
    "        print('Loads on stages:')\n",
    "        for stage in self.stages:\n",
    "            print('  Stage: %s\\t'%stage.name,' Load: ', uprint(stage.load, fmt='%6.3f') )\n",
    "         \n",
    "        \n",
    "    def showFridge(self):\n",
    "        print('Fridge:')\n",
    "        for link in self.linkages:\n",
    "            if link.type == 'Fridge':\n",
    "                print('  Link: %10s\\t'%link.name,' Avg MT Load: ', uprint(link.flux, fmt='%6.3f'),\\\n",
    "                     '')\n",
    "                print('  Hold Time: %2.2f h\\t'%(link.hold_time/3600), 'Cycle Efficiency: %2.2f \\t'%(1 - 2*3600/link.hold_time))\n",
    "                print('  Outside Load: ', uprint(link.s2.load, fmt='%4.2f'), 'Parasitic Load: ', uprint(link.para_load, fmt='%4.2f') )\n",
    "\n",
    "                \n",
    "    ### methods\n",
    "    def calLoads(self):\n",
    "        for stage in self.stages:\n",
    "            stage.load = 0\n",
    "        for link in self.linkages:\n",
    "            flux = link.calFlux()\n",
    "\n",
    "        "
   ]
  },
  {
   "cell_type": "code",
   "execution_count": 4,
   "metadata": {},
   "outputs": [
    {
     "name": "stdout",
     "output_type": "stream",
     "text": [
      "System: TIM subKelvin system\n",
      "Stages:\n",
      "   4k , Temp: 4.2\n",
      "   1k , Temp: 0.9\n",
      "   0.3k , Temp: 0.25\n",
      "Linkages:\n",
      "  Rad_4k_1k\t | from 4k to 1k\t | Radiation\n",
      "  Rad_4k_03k\t | from 4k to 0.3k\t | Radiation\n",
      "  CF_rod_4k_1k\t | from 4k to 1k\t | Conduction\n",
      "  CF_rod_1k_03k\t | from 1k to 0.3k\t | Conduction\n",
      "  Wire_4k_1k\t | from 4k to 1k\t | Conduction\n",
      "  Wire_1k_03k\t | from 1k to 0.3k\t | Conduction\n",
      "  He3_4k_03k\t | from 4k to 0.3k\t | Fridge\n"
     ]
    }
   ],
   "source": [
    "model = ThermalSystem(name='TIM subKelvin system')\n",
    "stages = [Stages(name='4k', T0=4.2), Stages(name='1k', T0=.9), \\\n",
    "          Stages(name='0.3k', T0=.25)]\n",
    "\n",
    "model.add_stages(stages)\n",
    "\n",
    "# radiation\n",
    "model.add_linkage(Radi(name='Rad_4k_1k', area = 100, s1=model.stages[0], \\\n",
    "                            s2=model.stages[1]))\n",
    "model.add_linkage(Radi(name='Rad_4k_03k', area = 1200, s1=model.stages[0], \\\n",
    "                            s2=model.stages[2]))\n",
    "\n",
    "\n",
    "# carbon fiber rods\n",
    "CF_AL = 16 * np.pi *(2.5e-3**2-1.5e-3**2)/0.15\n",
    "model.add_linkage(Cond(name='CF_rod_4k_1k', AOverL = CF_AL, material=CF, s1=model.stages[0], \\\n",
    "                            s2=model.stages[1]))\n",
    "\n",
    "CF_AL2 = 16 * np.pi *(2.5e-3**2-1.e-3**2)/0.1\n",
    "model.add_linkage(Cond(name='CF_rod_1k_03k', AOverL = CF_AL2, material=CF, s1=model.stages[1], \\\n",
    "                            s2=model.stages[2]))\n",
    "\n",
    "\n",
    "# model.add_linkage(Cond(name='HS_4k_1k', AOverL = 2e-5, material='SS', s1=model.stages[0], \\\n",
    "#                             s2=model.stages[1]))\n",
    "\n",
    "\n",
    "Wire_AOverL = (8*2+2) * np.pi*(6.5e-4**2-5e-4**2)/0.2\n",
    "model.add_linkage(Cond(name='Wire_4k_1k', AOverL = Wire_AOverL, material=SS, s1=model.stages[0], \\\n",
    "                            s2=model.stages[1]))\n",
    "\n",
    "Wire_AOverL2 = (8*2+2) * np.pi*(6.5e-4**2-5e-4**2)/0.1\n",
    "model.add_linkage(Cond(name='Wire_1k_03k', AOverL = Wire_AOverL2, material=SS, s1=model.stages[1], \\\n",
    "                            s2=model.stages[2]))\n",
    "\n",
    "\n",
    "\n",
    "\n",
    "# fridge\n",
    "model.add_linkage(Fridge(name='He3_4k_03k', s1=model.stages[0], s2=model.stages[2], \\\n",
    "                        stp = 8, heaterE=4600, no_load_time=72*3600))\n",
    "\n",
    "\n",
    "model.showSystem()"
   ]
  },
  {
   "cell_type": "code",
   "execution_count": 5,
   "metadata": {},
   "outputs": [
    {
     "name": "stdout",
     "output_type": "stream",
     "text": [
      "Fluxs on links:\n",
      "  Link:  Rad_4k_1k\t  Flux:  176.074 nW\n",
      "  Link: Rad_4k_03k\t  Flux:   2.117 uW\n",
      "  Link: CF_rod_4k_1k\t  Flux:  79.826 uW\n",
      "  Link: CF_rod_1k_03k\t  Flux:   7.491 uW\n",
      "  Link: Wire_4k_1k\t  Flux:  26.637 uW\n",
      "  Link: Wire_1k_03k\t  Flux:   1.652 uW\n",
      "  Link: He3_4k_03k\t  Flux:  23.594 mW\n",
      "Loads on stages:\n",
      "  Stage: 4k\t  Load:  23.485 mW\n",
      "  Stage: 1k\t  Load:  97.496 uW\n",
      "  Stage: 0.3k\t  Load:  11.260 uW\n",
      "Fridge:\n",
      "  Link: He3_4k_03k\t  Avg MT Load:  23.594 mW \n",
      "  Hold Time: 54.26 h\t Cycle Efficiency: 0.96 \t\n",
      "  Outside Load:  11.26 uW Parasitic Load:  34.45 uW\n"
     ]
    }
   ],
   "source": [
    "model.calLoads()\n",
    "model.showLoads()\n",
    "model.showFridge()"
   ]
  },
  {
   "cell_type": "code",
   "execution_count": 88,
   "metadata": {},
   "outputs": [
    {
     "data": {
      "text/plain": [
       "53.98775463747813"
      ]
     },
     "execution_count": 88,
     "metadata": {},
     "output_type": "execute_result"
    }
   ],
   "source": [
    "model.linkages[-1].hold_time/3600\n"
   ]
  },
  {
   "cell_type": "code",
   "execution_count": 12,
   "metadata": {},
   "outputs": [
    {
     "data": {
      "text/plain": [
       "0.0011873261822485206"
      ]
     },
     "execution_count": 12,
     "metadata": {},
     "output_type": "execute_result"
    }
   ],
   "source": [
    "T = 5.67e-8 * 1 * 4**4 \n",
    "T/(84.5/0.004)*86400*20"
   ]
  },
  {
   "cell_type": "code",
   "execution_count": 12,
   "metadata": {},
   "outputs": [
    {
     "name": "stdout",
     "output_type": "stream",
     "text": [
      "0.8267942583732057\n",
      "302.37268518518516\n"
     ]
    }
   ],
   "source": [
    "load = 25*1e-3\n",
    "\n",
    "L = 20.9 # J/g\n",
    "rho = 125 #g/L\n",
    "\n",
    "rate = 86400*load/(L*rho)\n",
    "\n",
    "print(rate)\n",
    "print(250/rate)"
   ]
  },
  {
   "cell_type": "code",
   "execution_count": 4,
   "metadata": {},
   "outputs": [
    {
     "data": {
      "text/plain": [
       "12.203483253588516"
      ]
     },
     "execution_count": 4,
     "metadata": {},
     "output_type": "execute_result"
    }
   ],
   "source": []
  },
  {
   "cell_type": "code",
   "execution_count": 23,
   "metadata": {},
   "outputs": [
    {
     "data": {
      "text/plain": [
       "<matplotlib.legend.Legend at 0x11df59250>"
      ]
     },
     "execution_count": 23,
     "metadata": {},
     "output_type": "execute_result"
    },
    {
     "data": {
      "image/png": "[encoded data removed]",
      "text/plain": [
       "<Figure size 576x432 with 1 Axes>"
      ]
     },
     "metadata": {
      "needs_background": "light"
     },
     "output_type": "display_data"
    }
   ],
   "source": [
    "fig, ax = plt.subplots(figsize=(8,6))\n",
    "\n",
    "T = np.linspace(0.2, 4, 300)\n",
    "\n",
    "G10_func = np.interp(T, T_G10, k_G10)\n",
    "SS_func = np.interp(T, T_SS, k_SS)\n",
    "CF_func = np.interp(T, T_CF, k_CF)\n",
    "\n",
    "plt.plot(T, G10_func, label= 'G10')\n",
    "plt.plot(T, SS_func, label= 'Stainless steel')\n",
    "plt.plot(T, CF_func, label= 'Carbon Fiber')\n",
    "\n",
    "plt.yscale('log')\n",
    "\n",
    "plt.legend()"
   ]
  },
  {
   "cell_type": "code",
   "execution_count": null,
   "metadata": {},
   "outputs": [],
   "source": []
  }
 ],
 "metadata": {
  "kernelspec": {
   "display_name": "Python 3",
   "language": "python",
   "name": "python3"
  },
  "language_info": {
   "codemirror_mode": {
    "name": "ipython",
    "version": 3
   },
   "file_extension": ".py",
   "mimetype": "text/x-python",
   "name": "python",
   "nbconvert_exporter": "python",
   "pygments_lexer": "ipython3",
   "version": "3.7.7"
  }
 },
 "nbformat": 4,
 "nbformat_minor": 4
}
